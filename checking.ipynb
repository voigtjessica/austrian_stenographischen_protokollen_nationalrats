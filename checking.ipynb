{
 "cells": [
  {
   "cell_type": "code",
   "execution_count": 1,
   "metadata": {},
   "outputs": [],
   "source": [
    "#Checking\n",
    "\n",
    "import re\n",
    "import json\n",
    "import pandas as pd\n",
    "import os\n",
    "from tqdm import tqdm\n",
    "\n",
    "df = pd.read_json('holz_filtered_list.json')"
   ]
  },
  {
   "cell_type": "code",
   "execution_count": 5,
   "metadata": {},
   "outputs": [
    {
     "data": {
      "text/html": [
       "<div>\n",
       "<style scoped>\n",
       "    .dataframe tbody tr th:only-of-type {\n",
       "        vertical-align: middle;\n",
       "    }\n",
       "\n",
       "    .dataframe tbody tr th {\n",
       "        vertical-align: top;\n",
       "    }\n",
       "\n",
       "    .dataframe thead th {\n",
       "        text-align: right;\n",
       "    }\n",
       "</style>\n",
       "<table border=\"1\" class=\"dataframe\">\n",
       "  <thead>\n",
       "    <tr style=\"text-align: right;\">\n",
       "      <th></th>\n",
       "      <th>index</th>\n",
       "      <th>title</th>\n",
       "      <th>url</th>\n",
       "      <th>topic</th>\n",
       "      <th>name_politician</th>\n",
       "      <th>url_speech</th>\n",
       "      <th>year</th>\n",
       "      <th>month</th>\n",
       "      <th>sitzung</th>\n",
       "      <th>file_title</th>\n",
       "      <th>text</th>\n",
       "      <th>search_term_found</th>\n",
       "      <th>position_in_json_list</th>\n",
       "    </tr>\n",
       "  </thead>\n",
       "  <tbody>\n",
       "    <tr>\n",
       "      <th>249</th>\n",
       "      <td>0</td>\n",
       "      <td>11. Dezember 2019 (6/NRSITZ)</td>\n",
       "      <td>http://www.parlament.gv.at/gegenstand/XXVII/NR...</td>\n",
       "      <td>TOP 3 Gehaltsanpassung im öffentlichen Dienst</td>\n",
       "      <td>Friedrich Ofenauer (ÖVP)</td>\n",
       "      <td>/dokument/XXVII/NRSITZ/6/A_-_14_57_52_00209882...</td>\n",
       "      <td>2019</td>\n",
       "      <td>Dezember</td>\n",
       "      <td>6NRSITZ</td>\n",
       "      <td>2019_6NRSITZ_Friedrich_Ofenauer_ÖVP_13651.txt</td>\n",
       "      <td>Abg. Mag. Friedrich Ofenauer (ÖVP), 6. Sitzun...</td>\n",
       "      <td>forstwirtschaftliche | forstwirtschaftli</td>\n",
       "      <td>13651</td>\n",
       "    </tr>\n",
       "  </tbody>\n",
       "</table>\n",
       "</div>"
      ],
      "text/plain": [
       "     index                         title  \\\n",
       "249      0  11. Dezember 2019 (6/NRSITZ)   \n",
       "\n",
       "                                                   url  \\\n",
       "249  http://www.parlament.gv.at/gegenstand/XXVII/NR...   \n",
       "\n",
       "                                             topic           name_politician  \\\n",
       "249  TOP 3 Gehaltsanpassung im öffentlichen Dienst  Friedrich Ofenauer (ÖVP)   \n",
       "\n",
       "                                            url_speech  year     month  \\\n",
       "249  /dokument/XXVII/NRSITZ/6/A_-_14_57_52_00209882...  2019  Dezember   \n",
       "\n",
       "     sitzung                                     file_title  \\\n",
       "249  6NRSITZ  2019_6NRSITZ_Friedrich_Ofenauer_ÖVP_13651.txt   \n",
       "\n",
       "                                                  text  \\\n",
       "249   Abg. Mag. Friedrich Ofenauer (ÖVP), 6. Sitzun...   \n",
       "\n",
       "                            search_term_found  position_in_json_list  \n",
       "249  forstwirtschaftliche | forstwirtschaftli                  13651  "
      ]
     },
     "execution_count": 5,
     "metadata": {},
     "output_type": "execute_result"
    }
   ],
   "source": [
    "df.query('file_title == \"2019_6NRSITZ_Friedrich_Ofenauer_ÖVP_13651.txt\"')"
   ]
  }
 ],
 "metadata": {
  "kernelspec": {
   "display_name": "Python 3",
   "language": "python",
   "name": "python3"
  },
  "language_info": {
   "codemirror_mode": {
    "name": "ipython",
    "version": 3
   },
   "file_extension": ".py",
   "mimetype": "text/x-python",
   "name": "python",
   "nbconvert_exporter": "python",
   "pygments_lexer": "ipython3",
   "version": "3.10.7"
  },
  "orig_nbformat": 4
 },
 "nbformat": 4,
 "nbformat_minor": 2
}
